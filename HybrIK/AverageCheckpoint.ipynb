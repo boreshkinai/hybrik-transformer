{
 "cells": [
  {
   "cell_type": "code",
   "execution_count": 2,
   "id": "ab43bb7e",
   "metadata": {},
   "outputs": [],
   "source": [
    "import argparse\n",
    "import ntpath\n",
    "import numpy as np\n",
    "import pandas as pd\n",
    "import json\n",
    "from glob import glob\n",
    "from tqdm.auto import tqdm\n",
    "\n",
    "import torch\n",
    "import torch.nn as nn\n",
    "import os"
   ]
  },
  {
   "cell_type": "code",
   "execution_count": 4,
   "id": "395e11c5",
   "metadata": {},
   "outputs": [
    {
     "data": {
      "application/vnd.jupyter.widget-view+json": {
       "model_id": "a50cfe536fb54cf0ab7b8a27b0d74028",
       "version_major": 2,
       "version_minor": 0
      },
      "text/plain": [
       "HBox(children=(FloatProgress(value=0.0, max=9.0), HTML(value='')))"
      ]
     },
     "metadata": {},
     "output_type": "display_data"
    },
    {
     "name": "stdout",
     "output_type": "stream",
     "text": [
      "\n",
      "Saving model exp/mix_smpl/hybrik_transformer_smpl24_hrnet.yaml-hybrik_transformer_warmup_4000_hrnet_bs56_lr0.0005/average_model_hrnet_181_199.pth\n"
     ]
    }
   ],
   "source": [
    "checkpoint_path = 'exp/mix_smpl_w_pw3d/hybrik_transformer_smpl24_w_pw3d.yaml-hybrik_transformer_blocks6_layers3_lw512_dp0.0_inv_sqrt_lr0.0005_aug_w_pw3d'\n",
    "checkpoint_path = 'exp/mix_smpl/hybrik_transformer_smpl24_hrnet.yaml-hybrik_transformer_warmup_4000_hrnet_bs56_lr0.0005'\n",
    "\n",
    "def make_checkpoint_average(path: str, epoch_min: int, epoch_max: int, prefix: str='average_model'):\n",
    "    checkpoint_pattern = os.path.join(path, 'model_*')\n",
    "    checkpoints = glob(checkpoint_pattern)\n",
    "    \n",
    "    filtered_checkpoints = []\n",
    "    epoch_actual_min = np.Inf\n",
    "    epoch_actual_max = 0\n",
    "    for c in checkpoints:\n",
    "        epoch = int(os.path.basename(c).split('model_')[1].split('.pth')[0])\n",
    "        if (epoch >= epoch_min) and (epoch <= epoch_max):\n",
    "            epoch_actual_min = min(epoch_actual_min, epoch)\n",
    "            epoch_actual_max = max(epoch_actual_max, epoch)\n",
    "            filtered_checkpoints.append(c)\n",
    "    \n",
    "    m_ave = torch.load(filtered_checkpoints[0])\n",
    "    for c in tqdm(filtered_checkpoints[1:]):\n",
    "        m = torch.load(c)\n",
    "\n",
    "        for k, v in m_ave.items():\n",
    "            m_ave[k] = v + m[k]\n",
    "\n",
    "    for k, v in m_ave.items():\n",
    "        m_ave[k] = v / len(filtered_checkpoints)\n",
    "        \n",
    "    save_path = os.path.join(checkpoint_path, f\"{prefix}_{epoch_actual_min}_{epoch_actual_max}.pth\")\n",
    "    print(f\"Saving model {save_path}\")\n",
    "    torch.save(m_ave, save_path)\n",
    "    \n",
    "    return filtered_checkpoints\n",
    "    \n",
    "\n",
    "filtered_checkpoints = make_checkpoint_average(checkpoint_path, 180, 200, prefix='average_model_hrnet')"
   ]
  },
  {
   "cell_type": "code",
   "execution_count": null,
   "id": "26418fe2",
   "metadata": {},
   "outputs": [],
   "source": []
  }
 ],
 "metadata": {
  "kernelspec": {
   "display_name": "Python 3 (ipykernel)",
   "language": "python",
   "name": "python3"
  },
  "language_info": {
   "codemirror_mode": {
    "name": "ipython",
    "version": 3
   },
   "file_extension": ".py",
   "mimetype": "text/x-python",
   "name": "python",
   "nbconvert_exporter": "python",
   "pygments_lexer": "ipython3",
   "version": "3.7.7"
  }
 },
 "nbformat": 4,
 "nbformat_minor": 5
}
